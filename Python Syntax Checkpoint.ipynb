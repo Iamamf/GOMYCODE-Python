{
 "cells": [
  {
   "cell_type": "code",
   "execution_count": 1,
   "id": "d8620ef2-613b-4a6e-ab32-1a1e55439781",
   "metadata": {},
   "outputs": [
    {
     "name": "stdout",
     "output_type": "stream",
     "text": [
      "Welcome to Python Pizza Deliveries!\n"
     ]
    },
    {
     "name": "stdin",
     "output_type": "stream",
     "text": [
      "What size pizza do you want? (Small ,Medium ,Large)  Large\n",
      "Do you want pepperoni? (Yes / No )  Yes\n",
      "Do you want extra cheese? (Yes / No)  Yes\n"
     ]
    },
    {
     "name": "stdout",
     "output_type": "stream",
     "text": [
      "Your final bill is: $29.\n"
     ]
    }
   ],
   "source": [
    "print(\"Welcome to Python Pizza Deliveries!\")\n",
    "\n",
    "size = input(\"What size pizza do you want? (Small ,Medium ,Large) \")\n",
    "add_pepperoni = input(\"Do you want pepperoni? (Yes / No ) \")\n",
    "extra_cheese = input(\"Do you want extra cheese? (Yes / No) \")\n",
    "\n",
    "bill = 0\n",
    "\n",
    "if size == \"Small\":\n",
    "    bill += 15\n",
    "elif size == \"Medium\":\n",
    "    bill += 20\n",
    "elif size == \"Large\":\n",
    "    bill += 25\n",
    "else:\n",
    "    print(\"Error: Invalid pizza size.\")\n",
    "    exit()\n",
    "\n",
    "if add_pepperoni == \"Yes\":\n",
    "    if size == \"Small\":\n",
    "        bill += 2\n",
    "    else:\n",
    "        bill += 3\n",
    "\n",
    "if extra_cheese == \"Yes\":\n",
    "    bill += 1\n",
    "\n",
    "print(f\"Your final bill is: ${bill}.\")"
   ]
  },
  {
   "cell_type": "code",
   "execution_count": null,
   "id": "b851708f-c43e-41dd-a4e9-2a64a79732e5",
   "metadata": {},
   "outputs": [],
   "source": []
  }
 ],
 "metadata": {
  "kernelspec": {
   "display_name": "Python 3 (ipykernel)",
   "language": "python",
   "name": "python3"
  },
  "language_info": {
   "codemirror_mode": {
    "name": "ipython",
    "version": 3
   },
   "file_extension": ".py",
   "mimetype": "text/x-python",
   "name": "python",
   "nbconvert_exporter": "python",
   "pygments_lexer": "ipython3",
   "version": "3.11.7"
  }
 },
 "nbformat": 4,
 "nbformat_minor": 5
}
