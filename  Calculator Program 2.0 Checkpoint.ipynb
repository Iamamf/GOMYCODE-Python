{
 "cells": [
  {
   "cell_type": "markdown",
   "id": "065183e1-f09d-4e1d-b681-687e2eb3e368",
   "metadata": {},
   "source": [
    "### What You're Aiming For\n",
    "\n",
    "In this exercise, you will expand on the basic calculator program by adding more advanced mathematical operations and error handling using object-oriented programming.\n",
    "\n",
    "\n",
    "### Instructions\n",
    "\n",
    "Create a new file called \"calculator_2.0.py\"\n",
    "Create a class called \"Calculator\" that contains the following:\n",
    "A dictionary attribute to store the available mathematical operations and their corresponding functions\n",
    "A method called \"init\" that initializes the dictionary with the basic mathematical operations (+, -, *, /) and corresponding functions\n",
    "A method called \"add_operation\" that takes in two arguments: the operation symbol and the corresponding function. This method should add the new operation and function to the dictionary.\n",
    "A method called \"calculate\" that takes in three arguments: the first number, the operation symbol, and the second number. This method should use the dictionary to determine the appropriate function to perform the calculation. It should also include error handling to check if the operation symbol is valid and if the input values are numbers. If an error is encountered, the method should print an error message and raise an exception.\n",
    "Create separate functions for the advanced mathematical operations (exponentiation, square root, logarithm) and use the \"add_operation\" method to add them to the calculator's dictionary.\n",
    "In the main program, create an instance of the Calculator class, and use a while loop that allows the user to continue performing calculations until they choose to exit.\n",
    "Use the input() function to get input from the user for the numbers and operation symbol.Use the math library for advanced mathematical operations\n",
    "Use the isinstance() function to check if the input is a number."
   ]
  },
  {
   "cell_type": "code",
   "execution_count": null,
   "id": "1bf5763b-1091-4396-be74-d1318c8f397a",
   "metadata": {},
   "outputs": [
    {
     "name": "stdin",
     "output_type": "stream",
     "text": [
      "Enter the first number (or type 'exit' to quit):  2\n",
      "Enter the operation (+, -, *, /, ^, sqrt, log):  log\n",
      "Enter the second number:  2\n"
     ]
    },
    {
     "name": "stdout",
     "output_type": "stream",
     "text": [
      "The result is: 1.0\n"
     ]
    },
    {
     "name": "stdin",
     "output_type": "stream",
     "text": [
      "Enter the first number (or type 'exit' to quit):  5\n",
      "Enter the operation (+, -, *, /, ^, sqrt, log):  sqrt\n"
     ]
    },
    {
     "name": "stdout",
     "output_type": "stream",
     "text": [
      "The result is: 2.23606797749979\n"
     ]
    },
    {
     "name": "stdin",
     "output_type": "stream",
     "text": [
      "Enter the first number (or type 'exit' to quit):  5\n",
      "Enter the operation (+, -, *, /, ^, sqrt, log):  /\n",
      "Enter the second number:  2\n"
     ]
    },
    {
     "name": "stdout",
     "output_type": "stream",
     "text": [
      "The result is: 2.5\n"
     ]
    }
   ],
   "source": [
    "import math  # Importing the math module for advanced mathematical operations\n",
    "\n",
    "class Calculator:\n",
    "    def __init__(self):\n",
    "        # Initializing the operations dictionary with basic operations and their corresponding methods\n",
    "        self.operations = {\n",
    "            '+': self.add,\n",
    "            '-': self.subtract,\n",
    "            '*': self.multiply,\n",
    "            '/': self.divide\n",
    "        }\n",
    "    \n",
    "    def add(self, num1, num2):\n",
    "        # Adding two numbers\n",
    "        return num1 + num2\n",
    "    \n",
    "    def subtract(self, num1, num2):\n",
    "        # Subtracting the second number from the first number\n",
    "        return num1 - num2\n",
    "\n",
    "    def multiply(self, num1, num2):\n",
    "        # Multiplying two numbers\n",
    "        return num1 * num2\n",
    "\n",
    "    def divide(self, num1, num2):\n",
    "        # Dividing the first number by the second number, with a check for division by zero\n",
    "        if num2 == 0:\n",
    "            print(\"Error: Division by zero is not allowed.\")\n",
    "            return None\n",
    "        return num1 / num2\n",
    "    \n",
    "    def add_operation(self, symbol, function):\n",
    "        # Adding a new operation to the operations dictionary\n",
    "        self.operations[symbol] = function\n",
    "    \n",
    "    def calculate(self, num1, operation, num2):\n",
    "        # Checking if the operation is valid\n",
    "        if operation not in self.operations:\n",
    "            print(f\"Error: '{operation}' is not a valid operation.\")\n",
    "            return None\n",
    "        \n",
    "        # Checking if the inputs are numbers\n",
    "        if not (isinstance(num1, (int, float)) and isinstance(num2, (int, float))):\n",
    "            print(\"Error: Both numbers must be integers or floats.\")\n",
    "            return None\n",
    "        \n",
    "        # Retrieving the function corresponding to the operation\n",
    "        function = self.operations[operation]\n",
    "        return function(num1, num2)  # Executing the function with num1 and num2 as arguments\n",
    "\n",
    "# Creating an instance of the Calculator class\n",
    "calc = Calculator()\n",
    "\n",
    "# Defining functions for the advanced mathematical operations\n",
    "def exponentiate(num1, num2):\n",
    "    # Raising the first number to the power of the second number\n",
    "    return num1 ** num2\n",
    "\n",
    "def sqrt(num1, _):\n",
    "    # Calculating the square root of the first number\n",
    "    return math.sqrt(num1)\n",
    "\n",
    "def logarithm(num1, num2):\n",
    "    # Calculating the logarithm of num1 with base num2, with checks for valid inputs\n",
    "    if num1 <= 0:\n",
    "        print(\"Error: Logarithm base must be greater than 0.\")\n",
    "        return None\n",
    "    if num2 <= 0 or num2 == 1:\n",
    "        print(\"Error: Logarithm argument must be greater than 0 and not equal to 1.\")\n",
    "        return None\n",
    "    return math.log(num1, num2)\n",
    "\n",
    "# Adding advanced operations to the calculator\n",
    "calc.add_operation('^', exponentiate)\n",
    "calc.add_operation('sqrt', sqrt)\n",
    "calc.add_operation('log', logarithm)\n",
    "\n",
    "# Interactive loop to perform calculations\n",
    "while True:\n",
    "    # Prompting the user to enter the first number or exit the program\n",
    "    num1_input = input(\"Enter the first number (or type 'exit' to quit): \")\n",
    "    if num1_input.lower() == 'exit':\n",
    "        break  # Exiting the loop if the user types 'exit'\n",
    "\n",
    "    # Prompting the user to enter the operation\n",
    "    operation = input(\"Enter the operation (+, -, *, /, ^, sqrt, log): \")\n",
    "\n",
    "    # Prompting the user to enter the second number if needed\n",
    "    num2_input = input(\"Enter the second number: \") if operation != 'sqrt' else '0'\n",
    "\n",
    "    # Converting inputs to floats\n",
    "    num1 = float(num1_input)\n",
    "    num2 = float(num2_input)\n",
    "\n",
    "    # Performing the calculation\n",
    "    result = calc.calculate(num1, operation, num2)\n",
    "\n",
    "    # Displaying the result if it's not None\n",
    "    if result is not None:\n",
    "        print(f\"The result is: {result}\")"
   ]
  },
  {
   "cell_type": "code",
   "execution_count": null,
   "id": "d41d2db6-e245-450b-80d3-2a36c9c9effe",
   "metadata": {},
   "outputs": [],
   "source": []
  }
 ],
 "metadata": {
  "kernelspec": {
   "display_name": "Python 3 (ipykernel)",
   "language": "python",
   "name": "python3"
  },
  "language_info": {
   "codemirror_mode": {
    "name": "ipython",
    "version": 3
   },
   "file_extension": ".py",
   "mimetype": "text/x-python",
   "name": "python",
   "nbconvert_exporter": "python",
   "pygments_lexer": "ipython3",
   "version": "3.11.7"
  }
 },
 "nbformat": 4,
 "nbformat_minor": 5
}
