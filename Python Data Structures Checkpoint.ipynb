{
 "cells": [
  {
   "cell_type": "code",
   "execution_count": null,
   "id": "91f00601-6330-4179-813d-ad9496b3b15b",
   "metadata": {},
   "outputs": [
    {
     "name": "stdout",
     "output_type": "stream",
     "text": [
      "\n",
      "Menu Options:\n",
      "1. Add an item (add)\n",
      "2. Remove an item (remove)\n",
      "3. View the shopping list (view)\n",
      "4. Exit the program (exit)\n"
     ]
    },
    {
     "name": "stdin",
     "output_type": "stream",
     "text": [
      "Choose an option:  ADD\n"
     ]
    }
   ],
   "source": [
    "# Initialize the shopping list\n",
    "shopping_list = []\n",
    "\n",
    "# Maximum number of items allowed in the shopping list\n",
    "max_items = 10\n",
    "\n",
    "# Start an infinite loop to continually prompt the user for actions\n",
    "while True:\n",
    "    # Display the menu options\n",
    "    print(\"\\nMenu Options:\")\n",
    "    print(\"1. Add an item (add)\")\n",
    "    print(\"2. Remove an item (remove)\")\n",
    "    print(\"3. View the shopping list (view)\")\n",
    "    print(\"4. Exit the program (exit)\")\n",
    "    \n",
    "    # Prompt the user for an action\n",
    "    user_input = input(\"Choose an option: \").strip().lower()\n",
    "    \n",
    "    # Add an item to the shopping list\n",
    "    if user_input == 'add':\n",
    "        if len(shopping_list) < max_items:\n",
    "            item_to_add = input(\"Enter the item you want to add: \").strip()\n",
    "            shopping_list.append(item_to_add)\n",
    "            print(f\"Added {item_to_add} to the shopping list.\")\n",
    "        else:\n",
    "            print(\"The shopping list is full. You cannot add more items.\")\n",
    "    \n",
    "    # Remove an item from the shopping list\n",
    "    elif user_input == 'remove':\n",
    "        item_to_remove = input(\"Enter the item you want to remove: \").strip()\n",
    "        if item_to_remove in shopping_list:\n",
    "            shopping_list.remove(item_to_remove)\n",
    "            print(f\"Removed {item_to_remove} from the shopping list.\")\n",
    "        else:\n",
    "            print(f\"{item_to_remove} is not in the shoppng list.\")\n",
    "    \n",
    "    # View the current shopping list\n",
    "    elif user_input == 'view':\n",
    "        print(\"Current shopping list:\")\n",
    "        for item in shopping_list:\n",
    "            print(f\"- {item}\")\n",
    "    \n",
    "    # Exit the loop and end the program\n",
    "    elif user_input == 'exit':\n",
    "        print(\"Exiting the program. Goodbye!\")\n",
    "        break\n",
    "    \n",
    "    # Handle invalid inputs\n",
    "    else:\n",
    "        print(\"Invalid input. Please enter 'add', 'remove', 'view', or 'exit'.\")"
   ]
  },
  {
   "cell_type": "code",
   "execution_count": null,
   "id": "55be2ee7-5170-49c3-a2ac-4223ce5cf9ad",
   "metadata": {},
   "outputs": [],
   "source": []
  }
 ],
 "metadata": {
  "kernelspec": {
   "display_name": "Python 3 (ipykernel)",
   "language": "python",
   "name": "python3"
  },
  "language_info": {
   "codemirror_mode": {
    "name": "ipython",
    "version": 3
   },
   "file_extension": ".py",
   "mimetype": "text/x-python",
   "name": "python",
   "nbconvert_exporter": "python",
   "pygments_lexer": "ipython3",
   "version": "3.11.7"
  }
 },
 "nbformat": 4,
 "nbformat_minor": 5
}
