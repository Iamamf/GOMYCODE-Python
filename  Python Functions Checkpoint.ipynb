{
 "cells": [
  {
   "cell_type": "code",
   "execution_count": null,
   "id": "3dd04de7-ee42-400b-95f0-e49c9c07214d",
   "metadata": {},
   "outputs": [
    {
     "name": "stdin",
     "output_type": "stream",
     "text": [
      "Enter the first number:  2\n"
     ]
    },
    {
     "name": "stdout",
     "output_type": "stream",
     "text": [
      "+ - * / \n"
     ]
    },
    {
     "name": "stdin",
     "output_type": "stream",
     "text": [
      "Choose an operation symbol:  +\n",
      "Enter the second number:  2\n"
     ]
    },
    {
     "name": "stdout",
     "output_type": "stream",
     "text": [
      "2.0 + 2.0 = 4.0\n"
     ]
    },
    {
     "name": "stdin",
     "output_type": "stream",
     "text": [
      "Do you want to continue with the result as the first number? (yes/no):  yes\n",
      "Choose an operation symbol:  *\n",
      "Enter the second number:  10\n"
     ]
    },
    {
     "name": "stdout",
     "output_type": "stream",
     "text": [
      "4.0 * 10.0 = 40.0\n"
     ]
    },
    {
     "name": "stdin",
     "output_type": "stream",
     "text": [
      "Do you want to continue with the result as the first number? (yes/no):  yes\n",
      "Choose an operation symbol:  * 2\n",
      "Enter the second number:  2\n"
     ]
    },
    {
     "name": "stdout",
     "output_type": "stream",
     "text": [
      "Invalid operation symbol. Please choose from '+', '-', '*', '/'.\n"
     ]
    },
    {
     "name": "stdin",
     "output_type": "stream",
     "text": [
      "Choose an operation symbol:  *\n",
      "Enter the second number:  2\n"
     ]
    },
    {
     "name": "stdout",
     "output_type": "stream",
     "text": [
      "40.0 * 2.0 = 80.0\n"
     ]
    }
   ],
   "source": [
    "# Define the four basic mathematical functions\n",
    "def add(x, y):\n",
    "    return x + y\n",
    "\n",
    "def subtract(x, y):\n",
    "    return x - y\n",
    "\n",
    "def multiply(x, y):\n",
    "    return x * y\n",
    "\n",
    "def divide(x, y):\n",
    "    return x / y\n",
    "\n",
    "# Create a dictionary assigning the functions to their corresponding operation s\n",
    "# ymbols\n",
    "operations = {\n",
    "    '+': add,\n",
    "    '-': subtract,\n",
    "    '*': multiply,\n",
    "    '/': divide\n",
    "}\n",
    "\n",
    "# Create a function for the calculator\n",
    "def calculator():\n",
    "    num1 = float(input(\"Enter the first number: \"))\n",
    "\n",
    "    for symbol in operations:\n",
    "        print(symbol, end=' ')\n",
    "    print()\n",
    "\n",
    "    should_continue = True\n",
    "    while should_continue:\n",
    "        operation = input(\"Choose an operation symbol: \")\n",
    "        num2 = float(input(\"Enter the second number: \"))\n",
    "\n",
    "        calculation_function = operations.get(operation)\n",
    "        if calculation_function:\n",
    "            answer = calculation_function(num1, num2)\n",
    "            print(f\"{num1} {operation} {num2} = {answer}\")\n",
    "\n",
    "            continue_calculation = input(\"Do you want to continue with the result as the first number? (yes/no): \")\n",
    "            if continue_calculation.lower() == 'yes':\n",
    "                num1 = answer\n",
    "            else:\n",
    "                should_continue = False\n",
    "                calculator()\n",
    "        else:\n",
    "            print(\"Invalid operation symbol. Please choose from '+', '-', '*', '/'.\")\n",
    "\n",
    "# Call the calculator function to start the calculation\n",
    "calculator()"
   ]
  },
  {
   "cell_type": "code",
   "execution_count": null,
   "id": "44aeb5c5-387f-4e1c-90f5-18d88cdf41df",
   "metadata": {},
   "outputs": [],
   "source": []
  }
 ],
 "metadata": {
  "kernelspec": {
   "display_name": "Python 3 (ipykernel)",
   "language": "python",
   "name": "python3"
  },
  "language_info": {
   "codemirror_mode": {
    "name": "ipython",
    "version": 3
   },
   "file_extension": ".py",
   "mimetype": "text/x-python",
   "name": "python",
   "nbconvert_exporter": "python",
   "pygments_lexer": "ipython3",
   "version": "3.11.7"
  }
 },
 "nbformat": 4,
 "nbformat_minor": 5
}
